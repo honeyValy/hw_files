{
 "cells": [
  {
   "cell_type": "markdown",
   "id": "397a4aa6",
   "metadata": {},
   "source": [
    "#Задание 1"
   ]
  },
  {
   "cell_type": "code",
   "execution_count": 64,
   "id": "b36a7631",
   "metadata": {},
   "outputs": [],
   "source": [
    "def create_cookbook(content):\n",
    "    \"\"\"\n",
    "    Create dictionary of dishes from list\n",
    "    \"\"\"\n",
    "    cookbook = {}\n",
    "    i = 0\n",
    "    while i < len(content):\n",
    "        dish = content[i].replace('\\n', '')\n",
    "        i += 1\n",
    "        ingredients = []\n",
    "        n = int(content[i].replace('\\n', ''))\n",
    "        for j in range(i+1, i+n+1):\n",
    "            ingredient = {}\n",
    "            ingr = content[j].split(' | ')\n",
    "            ingredient['ingredient_name'] = ingr[0].replace('\\n', '')\n",
    "            ingredient['quantity'] = ingr[1].replace('\\n', '')\n",
    "            ingredient['measure'] = ingr[2].replace('\\n', '')\n",
    "            ingredients.append(ingredient)\n",
    "        i += n + 2\n",
    "        cookbook[dish] = ingredients\n",
    "    return cookbook"
   ]
  },
  {
   "cell_type": "code",
   "execution_count": 65,
   "id": "8e27702f",
   "metadata": {},
   "outputs": [],
   "source": [
    "with open('recipes.txt', 'r', encoding='utf-8')  as f:\n",
    "    content = f.readlines()"
   ]
  },
  {
   "cell_type": "code",
   "execution_count": 66,
   "id": "7c5d4d1d",
   "metadata": {},
   "outputs": [],
   "source": [
    "cookbook = create_cookbook(content)        "
   ]
  },
  {
   "cell_type": "code",
   "execution_count": 67,
   "id": "a02c840b",
   "metadata": {},
   "outputs": [
    {
     "data": {
      "text/plain": [
       "{'Омлет': [{'ingredient_name': 'Яйцо', 'quantity': '2', 'measure': 'шт'},\n",
       "  {'ingredient_name': 'Молоко', 'quantity': '100', 'measure': 'мл'},\n",
       "  {'ingredient_name': 'Помидор', 'quantity': '2', 'measure': 'шт'}],\n",
       " 'Утка по-пекински': [{'ingredient_name': 'Утка',\n",
       "   'quantity': '1',\n",
       "   'measure': 'шт'},\n",
       "  {'ingredient_name': 'Вода', 'quantity': '2', 'measure': 'л'},\n",
       "  {'ingredient_name': 'Мед', 'quantity': '3', 'measure': 'ст.л'},\n",
       "  {'ingredient_name': 'Соевый соус', 'quantity': '60', 'measure': 'мл'}],\n",
       " 'Запеченный картофель': [{'ingredient_name': 'Картофель',\n",
       "   'quantity': '1',\n",
       "   'measure': 'кг'},\n",
       "  {'ingredient_name': 'Чеснок', 'quantity': '3', 'measure': 'зубч'},\n",
       "  {'ingredient_name': 'Сыр гауда', 'quantity': '100', 'measure': 'г'}],\n",
       " 'Фахитос': [{'ingredient_name': 'Говядина',\n",
       "   'quantity': '500',\n",
       "   'measure': 'г'},\n",
       "  {'ingredient_name': 'Перец сладкий', 'quantity': '1', 'measure': 'шт'},\n",
       "  {'ingredient_name': 'Лаваш', 'quantity': '2', 'measure': 'шт'},\n",
       "  {'ingredient_name': 'Винный уксус', 'quantity': '1', 'measure': 'ст.л'},\n",
       "  {'ingredient_name': 'Помидор', 'quantity': '2', 'measure': 'шт'}]}"
      ]
     },
     "execution_count": 67,
     "metadata": {},
     "output_type": "execute_result"
    }
   ],
   "source": [
    "cookbook"
   ]
  },
  {
   "cell_type": "code",
   "execution_count": 14,
   "id": "ee3d00bf",
   "metadata": {},
   "outputs": [
    {
     "data": {
      "text/plain": [
       "['Яйцо', '2', 'шт\\n']"
      ]
     },
     "execution_count": 14,
     "metadata": {},
     "output_type": "execute_result"
    }
   ],
   "source": [
    "'Яйцо | 2 | шт\\n'.split(' | ')"
   ]
  },
  {
   "cell_type": "code",
   "execution_count": 12,
   "id": "68b5e3fd",
   "metadata": {},
   "outputs": [
    {
     "data": {
      "text/plain": [
       "'dsdcsddcsd'"
      ]
     },
     "execution_count": 12,
     "metadata": {},
     "output_type": "execute_result"
    }
   ],
   "source": [
    "'dsdcsd/ndcsd'.replace('/n', '')"
   ]
  },
  {
   "cell_type": "code",
   "execution_count": 11,
   "id": "3a595ee6",
   "metadata": {},
   "outputs": [
    {
     "ename": "IndexError",
     "evalue": "list index out of range",
     "output_type": "error",
     "traceback": [
      "\u001b[1;31m---------------------------------------------------------------------------\u001b[0m",
      "\u001b[1;31mIndexError\u001b[0m                                Traceback (most recent call last)",
      "\u001b[1;32m<ipython-input-11-c8fb08ad4cb1>\u001b[0m in \u001b[0;36m<module>\u001b[1;34m\u001b[0m\n\u001b[1;32m----> 1\u001b[1;33m \u001b[0mcontent\u001b[0m\u001b[1;33m[\u001b[0m\u001b[1;36m26\u001b[0m\u001b[1;33m]\u001b[0m\u001b[1;33m\u001b[0m\u001b[1;33m\u001b[0m\u001b[0m\n\u001b[0m",
      "\u001b[1;31mIndexError\u001b[0m: list index out of range"
     ]
    }
   ],
   "source": [
    "content[26]"
   ]
  },
  {
   "cell_type": "code",
   "execution_count": 7,
   "id": "828194b0",
   "metadata": {},
   "outputs": [
    {
     "data": {
      "text/plain": [
       "['Омлет\\n',\n",
       " '3\\n',\n",
       " 'Яйцо | 2 | шт\\n',\n",
       " 'Молоко | 100 | мл\\n',\n",
       " 'Помидор | 2 | шт\\n',\n",
       " '\\n',\n",
       " 'Утка по-пекински\\n',\n",
       " '4\\n',\n",
       " 'Утка | 1 | шт\\n',\n",
       " 'Вода | 2 | л\\n',\n",
       " 'Мед | 3 | ст.л\\n',\n",
       " 'Соевый соус | 60 | мл\\n',\n",
       " '\\n',\n",
       " 'Запеченный картофель\\n',\n",
       " '3\\n',\n",
       " 'Картофель | 1 | кг\\n',\n",
       " 'Чеснок | 3 | зубч\\n',\n",
       " 'Сыр гауда | 100 | г\\n',\n",
       " '\\n',\n",
       " 'Фахитос\\n',\n",
       " '5\\n',\n",
       " 'Говядина | 500 | г\\n',\n",
       " 'Перец сладкий | 1 | шт\\n',\n",
       " 'Лаваш | 2 | шт\\n',\n",
       " 'Винный уксус | 1 | ст.л\\n',\n",
       " 'Помидор | 2 | шт']"
      ]
     },
     "execution_count": 7,
     "metadata": {},
     "output_type": "execute_result"
    }
   ],
   "source": [
    "content"
   ]
  },
  {
   "cell_type": "code",
   "execution_count": null,
   "id": "7a684da6",
   "metadata": {},
   "outputs": [],
   "source": []
  }
 ],
 "metadata": {
  "kernelspec": {
   "display_name": "Python 3",
   "language": "python",
   "name": "python3"
  },
  "language_info": {
   "codemirror_mode": {
    "name": "ipython",
    "version": 3
   },
   "file_extension": ".py",
   "mimetype": "text/x-python",
   "name": "python",
   "nbconvert_exporter": "python",
   "pygments_lexer": "ipython3",
   "version": "3.9.2"
  }
 },
 "nbformat": 4,
 "nbformat_minor": 5
}
