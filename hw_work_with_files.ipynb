{
 "cells": [
  {
   "cell_type": "markdown",
   "id": "6ebf7ee0",
   "metadata": {},
   "source": [
    "# Задание 1"
   ]
  },
  {
   "cell_type": "code",
   "execution_count": 76,
   "id": "1b6a463e",
   "metadata": {},
   "outputs": [],
   "source": [
    "def create_cookbook(content):\n",
    "    \"\"\"\n",
    "    Create dictionary of dishes from list\n",
    "    \"\"\"\n",
    "    cookbook = {}\n",
    "    i = 0\n",
    "    while i < len(content):\n",
    "        dish = content[i].replace('\\n', '')\n",
    "        i += 1\n",
    "        ingredients = []\n",
    "        n = int(content[i].replace('\\n', ''))\n",
    "        for j in range(i+1, i+n+1):\n",
    "            ingredient = {}\n",
    "            ingr = content[j].split(' | ')\n",
    "            ingredient['ingredient_name'] = ingr[0].replace('\\n', '')\n",
    "            ingredient['quantity'] = int(ingr[1].replace('\\n', ''))\n",
    "            ingredient['measure'] = ingr[2].replace('\\n', '')\n",
    "            ingredients.append(ingredient)\n",
    "        i += n + 2\n",
    "        cookbook[dish] = ingredients\n",
    "    return cookbook"
   ]
  },
  {
   "cell_type": "code",
   "execution_count": 77,
   "id": "5c76cd6b",
   "metadata": {},
   "outputs": [],
   "source": [
    "with open('recipes.txt', 'r', encoding='utf-8')  as f:\n",
    "    content = f.readlines()"
   ]
  },
  {
   "cell_type": "code",
   "execution_count": 78,
   "id": "99068f26",
   "metadata": {},
   "outputs": [],
   "source": [
    "cookbook = create_cookbook(content)        "
   ]
  },
  {
   "cell_type": "code",
   "execution_count": 79,
   "id": "dcafee03",
   "metadata": {},
   "outputs": [
    {
     "data": {
      "text/plain": [
       "{'Омлет': [{'ingredient_name': 'Яйцо', 'quantity': 2, 'measure': 'шт'},\n",
       "  {'ingredient_name': 'Молоко', 'quantity': 100, 'measure': 'мл'},\n",
       "  {'ingredient_name': 'Помидор', 'quantity': 2, 'measure': 'шт'}],\n",
       " 'Утка по-пекински': [{'ingredient_name': 'Утка',\n",
       "   'quantity': 1,\n",
       "   'measure': 'шт'},\n",
       "  {'ingredient_name': 'Вода', 'quantity': 2, 'measure': 'л'},\n",
       "  {'ingredient_name': 'Мед', 'quantity': 3, 'measure': 'ст.л'},\n",
       "  {'ingredient_name': 'Соевый соус', 'quantity': 60, 'measure': 'мл'}],\n",
       " 'Запеченный картофель': [{'ingredient_name': 'Картофель',\n",
       "   'quantity': 1,\n",
       "   'measure': 'кг'},\n",
       "  {'ingredient_name': 'Чеснок', 'quantity': 3, 'measure': 'зубч'},\n",
       "  {'ingredient_name': 'Сыр гауда', 'quantity': 100, 'measure': 'г'}],\n",
       " 'Фахитос': [{'ingredient_name': 'Говядина', 'quantity': 500, 'measure': 'г'},\n",
       "  {'ingredient_name': 'Перец сладкий', 'quantity': 1, 'measure': 'шт'},\n",
       "  {'ingredient_name': 'Лаваш', 'quantity': 2, 'measure': 'шт'},\n",
       "  {'ingredient_name': 'Винный уксус', 'quantity': 1, 'measure': 'ст.л'},\n",
       "  {'ingredient_name': 'Помидор', 'quantity': 2, 'measure': 'шт'}]}"
      ]
     },
     "execution_count": 79,
     "metadata": {},
     "output_type": "execute_result"
    }
   ],
   "source": [
    "cookbook"
   ]
  },
  {
   "cell_type": "markdown",
   "id": "eaf96d75",
   "metadata": {},
   "source": [
    "# Задание 2"
   ]
  },
  {
   "cell_type": "code",
   "execution_count": 80,
   "id": "2f0c5acb",
   "metadata": {},
   "outputs": [],
   "source": [
    "# Нужно написать функцию, которая на вход принимает список блюд из cook_book и количество персон для кого мы будем готовить"
   ]
  },
  {
   "cell_type": "code",
   "execution_count": 81,
   "id": "69baf8bf",
   "metadata": {},
   "outputs": [],
   "source": [
    "#Чтобы не объявлять cookbook как глобальную перееменную, сделаем cookbook входным параметром функции\n",
    "def get_shop_list_by_dishes(dishes, person_count, cookbook):\n",
    "    ingredients_for_cooking = {}\n",
    "    for dish in dishes:\n",
    "        ingredients = cookbook[dish]\n",
    "        for ing in ingredients:\n",
    "            ing_name = ing['ingredient_name']\n",
    "            ing_count = ing['quantity'] * person_count\n",
    "            ing_meas = ing['measure']\n",
    "            if ing_name in ingredients_for_cooking:\n",
    "                ingredients_for_cooking[ing_name]['quantity'] += ing_count\n",
    "            else:\n",
    "                ingredients_for_cooking[ing_name] = {'measure': ing_meas, 'quantity': ing_count}\n",
    "            \n",
    "    return ingredients_for_cooking\n",
    "    "
   ]
  },
  {
   "cell_type": "code",
   "execution_count": 88,
   "id": "658b56be",
   "metadata": {},
   "outputs": [
    {
     "data": {
      "text/plain": [
       "{'Картофель': {'measure': 'кг', 'quantity': 2},\n",
       " 'Чеснок': {'measure': 'зубч', 'quantity': 6},\n",
       " 'Сыр гауда': {'measure': 'г', 'quantity': 200},\n",
       " 'Яйцо': {'measure': 'шт', 'quantity': 4},\n",
       " 'Молоко': {'measure': 'мл', 'quantity': 200},\n",
       " 'Помидор': {'measure': 'шт', 'quantity': 4}}"
      ]
     },
     "execution_count": 88,
     "metadata": {},
     "output_type": "execute_result"
    }
   ],
   "source": [
    "get_shop_list_by_dishes(['Запеченный картофель', 'Омлет'], 2, cookbook)"
   ]
  },
  {
   "cell_type": "code",
   "execution_count": null,
   "id": "c8b54d8f",
   "metadata": {},
   "outputs": [],
   "source": []
  }
 ],
 "metadata": {
  "kernelspec": {
   "display_name": "Python 3",
   "language": "python",
   "name": "python3"
  },
  "language_info": {
   "codemirror_mode": {
    "name": "ipython",
    "version": 3
   },
   "file_extension": ".py",
   "mimetype": "text/x-python",
   "name": "python",
   "nbconvert_exporter": "python",
   "pygments_lexer": "ipython3",
   "version": "3.9.2"
  }
 },
 "nbformat": 4,
 "nbformat_minor": 5
}
