{
 "cells": [
  {
   "cell_type": "markdown",
   "id": "1bb2acbf",
   "metadata": {},
   "source": [
    "# Задание 1"
   ]
  },
  {
   "cell_type": "code",
   "execution_count": 76,
   "id": "8937d2ea",
   "metadata": {},
   "outputs": [],
   "source": [
    "def create_cookbook(content):\n",
    "    \"\"\"\n",
    "    Create dictionary of dishes from list\n",
    "    \"\"\"\n",
    "    cookbook = {}\n",
    "    i = 0\n",
    "    while i < len(content):\n",
    "        dish = content[i].replace('\\n', '')\n",
    "        i += 1\n",
    "        ingredients = []\n",
    "        n = int(content[i].replace('\\n', ''))\n",
    "        for j in range(i+1, i+n+1):\n",
    "            ingredient = {}\n",
    "            ingr = content[j].split(' | ')\n",
    "            ingredient['ingredient_name'] = ingr[0].replace('\\n', '')\n",
    "            ingredient['quantity'] = int(ingr[1].replace('\\n', ''))\n",
    "            ingredient['measure'] = ingr[2].replace('\\n', '')\n",
    "            ingredients.append(ingredient)\n",
    "        i += n + 2\n",
    "        cookbook[dish] = ingredients\n",
    "    return cookbook"
   ]
  },
  {
   "cell_type": "code",
   "execution_count": 77,
   "id": "8c4f492e",
   "metadata": {},
   "outputs": [],
   "source": [
    "with open('recipes.txt', 'r', encoding='utf-8')  as f:\n",
    "    content = f.readlines()"
   ]
  },
  {
   "cell_type": "code",
   "execution_count": 78,
   "id": "ad27c033",
   "metadata": {},
   "outputs": [],
   "source": [
    "cookbook = create_cookbook(content)        "
   ]
  },
  {
   "cell_type": "code",
   "execution_count": 79,
   "id": "330e24db",
   "metadata": {},
   "outputs": [
    {
     "data": {
      "text/plain": [
       "{'Омлет': [{'ingredient_name': 'Яйцо', 'quantity': 2, 'measure': 'шт'},\n",
       "  {'ingredient_name': 'Молоко', 'quantity': 100, 'measure': 'мл'},\n",
       "  {'ingredient_name': 'Помидор', 'quantity': 2, 'measure': 'шт'}],\n",
       " 'Утка по-пекински': [{'ingredient_name': 'Утка',\n",
       "   'quantity': 1,\n",
       "   'measure': 'шт'},\n",
       "  {'ingredient_name': 'Вода', 'quantity': 2, 'measure': 'л'},\n",
       "  {'ingredient_name': 'Мед', 'quantity': 3, 'measure': 'ст.л'},\n",
       "  {'ingredient_name': 'Соевый соус', 'quantity': 60, 'measure': 'мл'}],\n",
       " 'Запеченный картофель': [{'ingredient_name': 'Картофель',\n",
       "   'quantity': 1,\n",
       "   'measure': 'кг'},\n",
       "  {'ingredient_name': 'Чеснок', 'quantity': 3, 'measure': 'зубч'},\n",
       "  {'ingredient_name': 'Сыр гауда', 'quantity': 100, 'measure': 'г'}],\n",
       " 'Фахитос': [{'ingredient_name': 'Говядина', 'quantity': 500, 'measure': 'г'},\n",
       "  {'ingredient_name': 'Перец сладкий', 'quantity': 1, 'measure': 'шт'},\n",
       "  {'ingredient_name': 'Лаваш', 'quantity': 2, 'measure': 'шт'},\n",
       "  {'ingredient_name': 'Винный уксус', 'quantity': 1, 'measure': 'ст.л'},\n",
       "  {'ingredient_name': 'Помидор', 'quantity': 2, 'measure': 'шт'}]}"
      ]
     },
     "execution_count": 79,
     "metadata": {},
     "output_type": "execute_result"
    }
   ],
   "source": [
    "cookbook"
   ]
  },
  {
   "cell_type": "markdown",
   "id": "54d0337f",
   "metadata": {},
   "source": [
    "# Задание 2"
   ]
  },
  {
   "cell_type": "code",
   "execution_count": 80,
   "id": "00947633",
   "metadata": {},
   "outputs": [],
   "source": [
    "# Нужно написать функцию, которая на вход принимает список блюд из cook_book и количество персон для кого мы будем готовить"
   ]
  },
  {
   "cell_type": "code",
   "execution_count": 81,
   "id": "9004ceeb",
   "metadata": {},
   "outputs": [],
   "source": [
    "#Чтобы не объявлять cookbook как глобальную перееменную, сделаем cookbook входным параметром функции\n",
    "def get_shop_list_by_dishes(dishes, person_count, cookbook):\n",
    "    ingredients_for_cooking = {}\n",
    "    for dish in dishes:\n",
    "        ingredients = cookbook[dish]\n",
    "        for ing in ingredients:\n",
    "            ing_name = ing['ingredient_name']\n",
    "            ing_count = ing['quantity'] * person_count\n",
    "            ing_meas = ing['measure']\n",
    "            if ing_name in ingredients_for_cooking:\n",
    "                ingredients_for_cooking[ing_name]['quantity'] += ing_count\n",
    "            else:\n",
    "                ingredients_for_cooking[ing_name] = {'measure': ing_meas, 'quantity': ing_count}\n",
    "            \n",
    "    return ingredients_for_cooking\n",
    "    "
   ]
  },
  {
   "cell_type": "code",
   "execution_count": 88,
   "id": "3e011fe9",
   "metadata": {},
   "outputs": [
    {
     "data": {
      "text/plain": [
       "{'Картофель': {'measure': 'кг', 'quantity': 2},\n",
       " 'Чеснок': {'measure': 'зубч', 'quantity': 6},\n",
       " 'Сыр гауда': {'measure': 'г', 'quantity': 200},\n",
       " 'Яйцо': {'measure': 'шт', 'quantity': 4},\n",
       " 'Молоко': {'measure': 'мл', 'quantity': 200},\n",
       " 'Помидор': {'measure': 'шт', 'quantity': 4}}"
      ]
     },
     "execution_count": 88,
     "metadata": {},
     "output_type": "execute_result"
    }
   ],
   "source": [
    "get_shop_list_by_dishes(['Запеченный картофель', 'Омлет'], 2, cookbook)"
   ]
  },
  {
   "cell_type": "markdown",
   "id": "289f6128",
   "metadata": {},
   "source": [
    "# Задание 3"
   ]
  },
  {
   "cell_type": "code",
   "execution_count": 89,
   "id": "7c28993e",
   "metadata": {},
   "outputs": [],
   "source": [
    "import os"
   ]
  },
  {
   "cell_type": "code",
   "execution_count": 95,
   "id": "4f92a73d",
   "metadata": {},
   "outputs": [],
   "source": [
    "path = os.getcwd() + '\\\\task_3'"
   ]
  },
  {
   "cell_type": "code",
   "execution_count": 96,
   "id": "8e3d7c90",
   "metadata": {},
   "outputs": [],
   "source": [
    "files = os.listdir(path)"
   ]
  },
  {
   "cell_type": "code",
   "execution_count": null,
   "id": "bdaf6920",
   "metadata": {},
   "outputs": [],
   "source": [
    "# Составим словарь из названия файла и количества строк в нем"
   ]
  },
  {
   "cell_type": "code",
   "execution_count": 98,
   "id": "4d6c2fa9",
   "metadata": {},
   "outputs": [],
   "source": [
    "files_info = {}\n",
    "for file in files:\n",
    "    f_path = path + '\\\\' + file\n",
    "    with open(f_path, 'r', encoding='utf-8')as f:\n",
    "        content = f.readlines()\n",
    "        files_info[file] =  len(content)"
   ]
  },
  {
   "cell_type": "code",
   "execution_count": 99,
   "id": "403be5cb",
   "metadata": {},
   "outputs": [
    {
     "data": {
      "text/plain": [
       "{'1.txt': 8, '2.txt': 1, '3.txt': 9}"
      ]
     },
     "execution_count": 99,
     "metadata": {},
     "output_type": "execute_result"
    }
   ],
   "source": [
    "files_info"
   ]
  },
  {
   "cell_type": "code",
   "execution_count": null,
   "id": "2cf8dc72",
   "metadata": {},
   "outputs": [],
   "source": [
    "# Отсортируем созданный словарь"
   ]
  },
  {
   "cell_type": "code",
   "execution_count": 100,
   "id": "3167bf86",
   "metadata": {},
   "outputs": [],
   "source": [
    "import operator"
   ]
  },
  {
   "cell_type": "code",
   "execution_count": 114,
   "id": "ef6ae1a4",
   "metadata": {},
   "outputs": [],
   "source": [
    "sorted_files = sorted(files_info.items(), key=operator.itemgetter(1))"
   ]
  },
  {
   "cell_type": "code",
   "execution_count": 115,
   "id": "30a50953",
   "metadata": {},
   "outputs": [
    {
     "data": {
      "text/plain": [
       "[('2.txt', 1), ('1.txt', 8), ('3.txt', 9)]"
      ]
     },
     "execution_count": 115,
     "metadata": {},
     "output_type": "execute_result"
    }
   ],
   "source": [
    "sorted_files"
   ]
  },
  {
   "cell_type": "code",
   "execution_count": 132,
   "id": "03dc3eea",
   "metadata": {},
   "outputs": [],
   "source": [
    "# Объединим файлы в один согласно правилам и запишем в common_file.txt:"
   ]
  },
  {
   "cell_type": "code",
   "execution_count": 133,
   "id": "d7cce491",
   "metadata": {},
   "outputs": [],
   "source": [
    "with open('common_file.txt', 'w', encoding='utf-8') as f:\n",
    "    for file in sorted_files:\n",
    "        f_name = file[0]\n",
    "        f.write(f_name + '\\n' + str(file[1]) + '\\n')\n",
    "        f_path = path + '\\\\' + f_name\n",
    "        with open(f_path, 'r', encoding='utf-8') as cont_f:\n",
    "            content = ''.join(cont_f.readlines())\n",
    "            f.write(content + '\\n')\n",
    "        "
   ]
  }
 ],
 "metadata": {
  "kernelspec": {
   "display_name": "Python 3",
   "language": "python",
   "name": "python3"
  },
  "language_info": {
   "codemirror_mode": {
    "name": "ipython",
    "version": 3
   },
   "file_extension": ".py",
   "mimetype": "text/x-python",
   "name": "python",
   "nbconvert_exporter": "python",
   "pygments_lexer": "ipython3",
   "version": "3.9.2"
  }
 },
 "nbformat": 4,
 "nbformat_minor": 5
}
