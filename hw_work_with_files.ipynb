{
 "cells": [
  {
   "cell_type": "markdown",
   "id": "1f942e6e",
   "metadata": {},
   "source": [
    "# Задание 1"
   ]
  },
  {
   "cell_type": "code",
   "execution_count": 76,
   "id": "a6c2e3a0",
   "metadata": {},
   "outputs": [],
   "source": [
    "def create_cookbook(content):\n",
    "    \"\"\"\n",
    "    Create dictionary of dishes from list\n",
    "    \"\"\"\n",
    "    cookbook = {}\n",
    "    i = 0\n",
    "    while i < len(content):\n",
    "        dish = content[i].replace('\\n', '')\n",
    "        i += 1\n",
    "        ingredients = []\n",
    "        n = int(content[i].replace('\\n', ''))\n",
    "        for j in range(i+1, i+n+1):\n",
    "            ingredient = {}\n",
    "            ingr = content[j].split(' | ')\n",
    "            ingredient['ingredient_name'] = ingr[0].replace('\\n', '')\n",
    "            ingredient['quantity'] = int(ingr[1].replace('\\n', ''))\n",
    "            ingredient['measure'] = ingr[2].replace('\\n', '')\n",
    "            ingredients.append(ingredient)\n",
    "        i += n + 2\n",
    "        cookbook[dish] = ingredients\n",
    "    return cookbook"
   ]
  },
  {
   "cell_type": "code",
   "execution_count": 77,
   "id": "3e066b8f",
   "metadata": {},
   "outputs": [],
   "source": [
    "with open('recipes.txt', 'r', encoding='utf-8')  as f:\n",
    "    content = f.readlines()"
   ]
  },
  {
   "cell_type": "code",
   "execution_count": 78,
   "id": "d610f2e8",
   "metadata": {},
   "outputs": [],
   "source": [
    "cookbook = create_cookbook(content)        "
   ]
  },
  {
   "cell_type": "code",
   "execution_count": 79,
   "id": "f20c4fe2",
   "metadata": {},
   "outputs": [
    {
     "data": {
      "text/plain": [
       "{'Омлет': [{'ingredient_name': 'Яйцо', 'quantity': 2, 'measure': 'шт'},\n",
       "  {'ingredient_name': 'Молоко', 'quantity': 100, 'measure': 'мл'},\n",
       "  {'ingredient_name': 'Помидор', 'quantity': 2, 'measure': 'шт'}],\n",
       " 'Утка по-пекински': [{'ingredient_name': 'Утка',\n",
       "   'quantity': 1,\n",
       "   'measure': 'шт'},\n",
       "  {'ingredient_name': 'Вода', 'quantity': 2, 'measure': 'л'},\n",
       "  {'ingredient_name': 'Мед', 'quantity': 3, 'measure': 'ст.л'},\n",
       "  {'ingredient_name': 'Соевый соус', 'quantity': 60, 'measure': 'мл'}],\n",
       " 'Запеченный картофель': [{'ingredient_name': 'Картофель',\n",
       "   'quantity': 1,\n",
       "   'measure': 'кг'},\n",
       "  {'ingredient_name': 'Чеснок', 'quantity': 3, 'measure': 'зубч'},\n",
       "  {'ingredient_name': 'Сыр гауда', 'quantity': 100, 'measure': 'г'}],\n",
       " 'Фахитос': [{'ingredient_name': 'Говядина', 'quantity': 500, 'measure': 'г'},\n",
       "  {'ingredient_name': 'Перец сладкий', 'quantity': 1, 'measure': 'шт'},\n",
       "  {'ingredient_name': 'Лаваш', 'quantity': 2, 'measure': 'шт'},\n",
       "  {'ingredient_name': 'Винный уксус', 'quantity': 1, 'measure': 'ст.л'},\n",
       "  {'ingredient_name': 'Помидор', 'quantity': 2, 'measure': 'шт'}]}"
      ]
     },
     "execution_count": 79,
     "metadata": {},
     "output_type": "execute_result"
    }
   ],
   "source": [
    "cookbook"
   ]
  },
  {
   "cell_type": "markdown",
   "id": "c8fb677a",
   "metadata": {},
   "source": [
    "# Задание 2"
   ]
  },
  {
   "cell_type": "code",
   "execution_count": 80,
   "id": "5de04e6d",
   "metadata": {},
   "outputs": [],
   "source": [
    "# Нужно написать функцию, которая на вход принимает список блюд из cook_book и количество персон для кого мы будем готовить"
   ]
  },
  {
   "cell_type": "code",
   "execution_count": 81,
   "id": "bbf11e5f",
   "metadata": {},
   "outputs": [],
   "source": [
    "#Чтобы не объявлять cookbook как глобальную перееменную, сделаем cookbook входноым параметром функции\n",
    "def get_shop_list_by_dishes(dishes, person_count, cookbook):\n",
    "    ingredients_for_cooking = {}\n",
    "    for dish in dishes:\n",
    "        ingredients = cookbook[dish]\n",
    "        for ing in ingredients:\n",
    "            ing_name = ing['ingredient_name']\n",
    "            ing_count = ing['quantity'] * person_count\n",
    "            ing_meas = ing['measure']\n",
    "            if ing_name in ingredients_for_cooking:\n",
    "                ingredients_for_cooking[ing_name]['quantity'] += ing_count\n",
    "            else:\n",
    "                ingredients_for_cooking[ing_name] = {'measure': ing_meas, 'quantity': ing_count}\n",
    "            \n",
    "    return ingredients_for_cooking\n",
    "    "
   ]
  },
  {
   "cell_type": "code",
   "execution_count": 88,
   "id": "2446e57a",
   "metadata": {},
   "outputs": [
    {
     "data": {
      "text/plain": [
       "{'Картофель': {'measure': 'кг', 'quantity': 2},\n",
       " 'Чеснок': {'measure': 'зубч', 'quantity': 6},\n",
       " 'Сыр гауда': {'measure': 'г', 'quantity': 200},\n",
       " 'Яйцо': {'measure': 'шт', 'quantity': 4},\n",
       " 'Молоко': {'measure': 'мл', 'quantity': 200},\n",
       " 'Помидор': {'measure': 'шт', 'quantity': 4}}"
      ]
     },
     "execution_count": 88,
     "metadata": {},
     "output_type": "execute_result"
    }
   ],
   "source": [
    "get_shop_list_by_dishes(['Запеченный картофель', 'Омлет'], 2, cookbook)"
   ]
  },
  {
   "cell_type": "code",
   "execution_count": null,
   "id": "12a3e87f",
   "metadata": {},
   "outputs": [],
   "source": []
  },
  {
   "cell_type": "code",
   "execution_count": 85,
   "id": "f566a777",
   "metadata": {},
   "outputs": [
    {
     "data": {
      "text/plain": [
       "{'Яйцо': {'measure': 'шт', 'quantity': 8},\n",
       " 'Молоко': {'measure': 'мл', 'quantity': 400},\n",
       " 'Помидор': {'measure': 'шт', 'quantity': 8}}"
      ]
     },
     "execution_count": 85,
     "metadata": {},
     "output_type": "execute_result"
    }
   ],
   "source": [
    "get_shop_list_by_dishes(['Омлет', 'Омлет'], 2, cookbook)"
   ]
  },
  {
   "cell_type": "code",
   "execution_count": 86,
   "id": "724567cf",
   "metadata": {},
   "outputs": [
    {
     "data": {
      "text/plain": [
       "[{'ingredient_name': 'Яйцо', 'quantity': 2, 'measure': 'шт'},\n",
       " {'ingredient_name': 'Молоко', 'quantity': 100, 'measure': 'мл'},\n",
       " {'ingredient_name': 'Помидор', 'quantity': 2, 'measure': 'шт'}]"
      ]
     },
     "execution_count": 86,
     "metadata": {},
     "output_type": "execute_result"
    }
   ],
   "source": [
    "cookbook['Омлет']"
   ]
  },
  {
   "cell_type": "code",
   "execution_count": 84,
   "id": "d059d6c7",
   "metadata": {},
   "outputs": [
    {
     "data": {
      "text/plain": [
       "{'Картофель': {'measure': 'кг', 'quantity': 2},\n",
       " 'Молоко': {'measure': 'мл', 'quantity': 200},\n",
       " 'Помидор': {'measure': 'шт', 'quantity': 4},\n",
       " 'Сыр гауда': {'measure': 'г', 'quantity': 200},\n",
       " 'Яйцо': {'measure': 'шт', 'quantity': 4},\n",
       " 'Чеснок': {'measure': 'зубч', 'quantity': 6}}"
      ]
     },
     "execution_count": 84,
     "metadata": {},
     "output_type": "execute_result"
    }
   ],
   "source": [
    "{\n",
    "  'Картофель': {'measure': 'кг', 'quantity': 2},\n",
    "  'Молоко': {'measure': 'мл', 'quantity': 200},\n",
    "  'Помидор': {'measure': 'шт', 'quantity': 4},\n",
    "  'Сыр гауда': {'measure': 'г', 'quantity': 200},\n",
    "  'Яйцо': {'measure': 'шт', 'quantity': 4},\n",
    "  'Чеснок': {'measure': 'зубч', 'quantity': 6}\n",
    "}"
   ]
  },
  {
   "cell_type": "code",
   "execution_count": 72,
   "id": "9a2a8ee8",
   "metadata": {},
   "outputs": [
    {
     "data": {
      "text/plain": [
       "{'Омлет': [{'ingredient_name': 'Яйцо', 'quantity': '2', 'measure': 'шт'},\n",
       "  {'ingredient_name': 'Молоко', 'quantity': '100', 'measure': 'мл'},\n",
       "  {'ingredient_name': 'Помидор', 'quantity': '2', 'measure': 'шт'}],\n",
       " 'Утка по-пекински': [{'ingredient_name': 'Утка',\n",
       "   'quantity': '1',\n",
       "   'measure': 'шт'},\n",
       "  {'ingredient_name': 'Вода', 'quantity': '2', 'measure': 'л'},\n",
       "  {'ingredient_name': 'Мед', 'quantity': '3', 'measure': 'ст.л'},\n",
       "  {'ingredient_name': 'Соевый соус', 'quantity': '60', 'measure': 'мл'}],\n",
       " 'Запеченный картофель': [{'ingredient_name': 'Картофель',\n",
       "   'quantity': '1',\n",
       "   'measure': 'кг'},\n",
       "  {'ingredient_name': 'Чеснок', 'quantity': '3', 'measure': 'зубч'},\n",
       "  {'ingredient_name': 'Сыр гауда', 'quantity': '100', 'measure': 'г'}],\n",
       " 'Фахитос': [{'ingredient_name': 'Говядина',\n",
       "   'quantity': '500',\n",
       "   'measure': 'г'},\n",
       "  {'ingredient_name': 'Перец сладкий', 'quantity': '1', 'measure': 'шт'},\n",
       "  {'ingredient_name': 'Лаваш', 'quantity': '2', 'measure': 'шт'},\n",
       "  {'ingredient_name': 'Винный уксус', 'quantity': '1', 'measure': 'ст.л'},\n",
       "  {'ingredient_name': 'Помидор', 'quantity': '2', 'measure': 'шт'}]}"
      ]
     },
     "execution_count": 72,
     "metadata": {},
     "output_type": "execute_result"
    }
   ],
   "source": [
    "cookbook"
   ]
  },
  {
   "cell_type": "code",
   "execution_count": null,
   "id": "6cbb64b0",
   "metadata": {},
   "outputs": [],
   "source": []
  }
 ],
 "metadata": {
  "kernelspec": {
   "display_name": "Python 3",
   "language": "python",
   "name": "python3"
  },
  "language_info": {
   "codemirror_mode": {
    "name": "ipython",
    "version": 3
   },
   "file_extension": ".py",
   "mimetype": "text/x-python",
   "name": "python",
   "nbconvert_exporter": "python",
   "pygments_lexer": "ipython3",
   "version": "3.9.2"
  }
 },
 "nbformat": 4,
 "nbformat_minor": 5
}
